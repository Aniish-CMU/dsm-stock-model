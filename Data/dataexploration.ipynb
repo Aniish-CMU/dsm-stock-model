{
 "cells": [
  {
   "cell_type": "code",
   "execution_count": 32,
   "metadata": {},
   "outputs": [],
   "source": [
    "import pandas as pd\n",
    "import numpy as np\n",
    "import matplotlib.pyplot as plt\n",
    "from prophet import Prophet\n",
    "from datetime import datetime\n"
   ]
  },
  {
   "cell_type": "code",
   "execution_count": 33,
   "metadata": {},
   "outputs": [],
   "source": [
    "apple = pd.read_csv(\"AAPL.csv\")\n",
    "amazon = pd.read_csv(\"AMZN.csv\")\n",
    "meta = pd.read_csv(\"META.csv\")"
   ]
  },
  {
   "cell_type": "code",
   "execution_count": 34,
   "metadata": {},
   "outputs": [],
   "source": [
    "datetime_object = datetime.strptime(\"2019-01-02\", '%Y-%m-%d')\n",
    "frequency_encoding_dict = {'daily':'D', 'weekly':'W', 'monthly':'M'}\n",
    "date_lst = (pd.date_range(start=datetime_object, periods=len(apple), \\\n",
    "        freq=\"D\"))\n"
   ]
  },
  {
   "cell_type": "code",
   "execution_count": 35,
   "metadata": {},
   "outputs": [
    {
     "data": {
      "text/plain": [
       "[<matplotlib.lines.Line2D at 0x1e6272560d0>]"
      ]
     },
     "execution_count": 35,
     "metadata": {},
     "output_type": "execute_result"
    },
    {
     "data": {
      "image/png": "[encoded data removed]",
      "text/plain": [
       "<Figure size 432x288 with 3 Axes>"
      ]
     },
     "metadata": {
      "needs_background": "light"
     },
     "output_type": "display_data"
    }
   ],
   "source": [
    "fig, (ax1, ax2, ax3) = plt.subplots(1,3)\n",
    "fig.suptitle('Time series plots of apple, amazon and meta')\n",
    "ax1.plot(apple['adj close'])\n",
    "ax2.plot(amazon['adj close'])\n",
    "ax3.plot(meta['adj close'])"
   ]
  },
  {
   "cell_type": "code",
   "execution_count": 36,
   "metadata": {},
   "outputs": [
    {
     "name": "stderr",
     "output_type": "stream",
     "text": [
      "11:48:18 - cmdstanpy - INFO - Chain [1] start processing\n",
      "11:48:20 - cmdstanpy - INFO - Chain [1] done processing\n",
      "C:\\Users\\aniis\\AppData\\Local\\Temp\\ipykernel_28616\\2937228333.py:8: SettingWithCopyWarning: \n",
      "A value is trying to be set on a copy of a slice from a DataFrame\n",
      "\n",
      "See the caveats in the documentation: https://pandas.pydata.org/pandas-docs/stable/user_guide/indexing.html#returning-a-view-versus-a-copy\n",
      "  forecast['y'].iloc[-12:] = df_apple['y'][-12:]\n"
     ]
    }
   ],
   "source": [
    "\n",
    "df_apple = pd.DataFrame({'ds': date_lst, 'y': apple['adj close']})\n",
    "df_apple.index = df_apple['ds']\n",
    "model = Prophet(seasonality_mode= \"multiplicative\", daily_seasonality=True, weekly_seasonality=True, yearly_seasonality=True)\n",
    "model.fit(df_apple.iloc[0:1115])\n",
    "future = model.make_future_dataframe(periods=12)\n",
    "forecast = model.predict(future)\n",
    "forecast['y'] = 0\n",
    "forecast['y'].iloc[-12:] = df_apple['y'][-12:]\n",
    "forecast[['y', 'yhat', 'yhat_lower', 'yhat_upper']][-12:].to_csv(\"apple_validation.csv\")"
   ]
  },
  {
   "cell_type": "code",
   "execution_count": 37,
   "metadata": {},
   "outputs": [
    {
     "name": "stderr",
     "output_type": "stream",
     "text": [
      "11:48:21 - cmdstanpy - INFO - Chain [1] start processing\n",
      "11:48:23 - cmdstanpy - INFO - Chain [1] done processing\n",
      "C:\\Users\\aniis\\AppData\\Local\\Temp\\ipykernel_28616\\1363014260.py:8: SettingWithCopyWarning: \n",
      "A value is trying to be set on a copy of a slice from a DataFrame\n",
      "\n",
      "See the caveats in the documentation: https://pandas.pydata.org/pandas-docs/stable/user_guide/indexing.html#returning-a-view-versus-a-copy\n",
      "  forecast['y'].iloc[-12:] = df_meta['y'][-12:]\n"
     ]
    }
   ],
   "source": [
    "df_meta = pd.DataFrame({'ds': date_lst, 'y': meta['adj close']})\n",
    "df_meta.index = df_meta['ds']\n",
    "model = Prophet(seasonality_mode= \"multiplicative\", daily_seasonality=True, weekly_seasonality=True, yearly_seasonality=True)\n",
    "model.fit(df_meta.iloc[0:1115])\n",
    "future = model.make_future_dataframe(periods=12)\n",
    "forecast = model.predict(future)\n",
    "forecast['y'] = 0\n",
    "forecast['y'].iloc[-12:] = df_meta['y'][-12:]\n",
    "forecast[['y', 'yhat', 'yhat_lower', 'yhat_upper']][-12:].to_csv(\"meta_validation.csv\")"
   ]
  },
  {
   "cell_type": "code",
   "execution_count": 38,
   "metadata": {},
   "outputs": [
    {
     "name": "stderr",
     "output_type": "stream",
     "text": [
      "11:48:24 - cmdstanpy - INFO - Chain [1] start processing\n",
      "11:48:26 - cmdstanpy - INFO - Chain [1] done processing\n",
      "C:\\Users\\aniis\\AppData\\Local\\Temp\\ipykernel_28616\\3301898016.py:8: SettingWithCopyWarning: \n",
      "A value is trying to be set on a copy of a slice from a DataFrame\n",
      "\n",
      "See the caveats in the documentation: https://pandas.pydata.org/pandas-docs/stable/user_guide/indexing.html#returning-a-view-versus-a-copy\n",
      "  forecast['y'].iloc[-12:] = df_amzn['y'][-12:]\n"
     ]
    }
   ],
   "source": [
    "df_amzn = pd.DataFrame({'ds': date_lst, 'y': amazon['adj close']})\n",
    "df_amzn.index = df_amzn['ds']\n",
    "model = Prophet(seasonality_mode= \"multiplicative\", daily_seasonality=True, weekly_seasonality=True, yearly_seasonality=True)\n",
    "model.fit(df_amzn.iloc[0:1115])\n",
    "future = model.make_future_dataframe(periods=12)\n",
    "forecast = model.predict(future)\n",
    "forecast['y'] = 0\n",
    "forecast['y'].iloc[-12:] = df_amzn['y'][-12:]\n",
    "forecast[['y', 'yhat', 'yhat_lower', 'yhat_upper']][-12:].to_csv(\"amazon_validation.csv\")"
   ]
  },
  {
   "cell_type": "code",
   "execution_count": 39,
   "metadata": {},
   "outputs": [
    {
     "data": {
      "text/plain": [
       "1127"
      ]
     },
     "execution_count": 39,
     "metadata": {},
     "output_type": "execute_result"
    }
   ],
   "source": [
    "len(apple)"
   ]
  }
 ],
 "metadata": {
  "kernelspec": {
   "display_name": "base",
   "language": "python",
   "name": "python3"
  },
  "language_info": {
   "codemirror_mode": {
    "name": "ipython",
    "version": 3
   },
   "file_extension": ".py",
   "mimetype": "text/x-python",
   "name": "python",
   "nbconvert_exporter": "python",
   "pygments_lexer": "ipython3",
   "version": "3.9.12"
  },
  "orig_nbformat": 4
 },
 "nbformat": 4,
 "nbformat_minor": 2
}
